{
  "cells": [
    {
      "cell_type": "markdown",
      "id": "0d51d2ac",
      "metadata": {
        "id": "0d51d2ac"
      },
      "source": [
        "# Data\n",
        "* **huge ammount of data from 2008 -2017**\n",
        "* **time series based dataset - split based on time**\n",
        "\n",
        "\n",
        "Our Dataset Consist Of 76015 rows and 13 cols namely:\n",
        "* mid - match id\n",
        "* date - when matches are played\n",
        "* venue - place where matches aew played\n",
        "* bat_team - batting team\n",
        "* bowl_team - bowling team\n",
        "* batsman - batsman\n",
        "* bowler - bowler\n",
        "* runs - runs scored\n",
        "* wickets - wickets\n",
        "* overs - overs - next 3 are based on this\n",
        "* run_last_5 - runs scored  in last 5 overs\n",
        "* wicket_last_5 - wickets in last 5 overs\n",
        "* stricker - batsman playing as main 1\n",
        "* non-striker - batsman playing as runner up - not main 0\n",
        "* total - total score **(target variable)**\n",
        "\n",
        "# Approach\n",
        "\n",
        "**We can predict as taken `team1 , team2 , overs , run , venue , wickets , previous match` for same overs what was the the actual score` , this helps in predicticting total score**"
      ]
    },
    {
      "cell_type": "markdown",
      "id": "6391bf7c",
      "metadata": {
        "id": "6391bf7c"
      },
      "source": [
        "# First Innings Score Predictions"
      ]
    },
    {
      "cell_type": "code",
      "execution_count": 1,
      "id": "56921e1a",
      "metadata": {
        "colab": {
          "base_uri": "https://localhost:8080/",
          "height": 219
        },
        "id": "56921e1a",
        "outputId": "32cfb18e-9422-4511-f37f-2a707ca80325"
      },
      "outputs": [
        {
          "data": {
            "text/html": [
              "<div>\n",
              "<style scoped>\n",
              "    .dataframe tbody tr th:only-of-type {\n",
              "        vertical-align: middle;\n",
              "    }\n",
              "\n",
              "    .dataframe tbody tr th {\n",
              "        vertical-align: top;\n",
              "    }\n",
              "\n",
              "    .dataframe thead th {\n",
              "        text-align: right;\n",
              "    }\n",
              "</style>\n",
              "<table border=\"1\" class=\"dataframe\">\n",
              "  <thead>\n",
              "    <tr style=\"text-align: right;\">\n",
              "      <th></th>\n",
              "      <th>mid</th>\n",
              "      <th>date</th>\n",
              "      <th>venue</th>\n",
              "      <th>bat_team</th>\n",
              "      <th>bowl_team</th>\n",
              "      <th>batsman</th>\n",
              "      <th>bowler</th>\n",
              "      <th>runs</th>\n",
              "      <th>wickets</th>\n",
              "      <th>overs</th>\n",
              "      <th>runs_last_5</th>\n",
              "      <th>wickets_last_5</th>\n",
              "      <th>striker</th>\n",
              "      <th>non-striker</th>\n",
              "      <th>total</th>\n",
              "    </tr>\n",
              "  </thead>\n",
              "  <tbody>\n",
              "    <tr>\n",
              "      <th>0</th>\n",
              "      <td>1</td>\n",
              "      <td>2008-04-18</td>\n",
              "      <td>M Chinnaswamy Stadium</td>\n",
              "      <td>Kolkata Knight Riders</td>\n",
              "      <td>Royal Challengers Bangalore</td>\n",
              "      <td>SC Ganguly</td>\n",
              "      <td>P Kumar</td>\n",
              "      <td>1</td>\n",
              "      <td>0</td>\n",
              "      <td>0.1</td>\n",
              "      <td>1</td>\n",
              "      <td>0</td>\n",
              "      <td>0</td>\n",
              "      <td>0</td>\n",
              "      <td>222</td>\n",
              "    </tr>\n",
              "    <tr>\n",
              "      <th>1</th>\n",
              "      <td>1</td>\n",
              "      <td>2008-04-18</td>\n",
              "      <td>M Chinnaswamy Stadium</td>\n",
              "      <td>Kolkata Knight Riders</td>\n",
              "      <td>Royal Challengers Bangalore</td>\n",
              "      <td>BB McCullum</td>\n",
              "      <td>P Kumar</td>\n",
              "      <td>1</td>\n",
              "      <td>0</td>\n",
              "      <td>0.2</td>\n",
              "      <td>1</td>\n",
              "      <td>0</td>\n",
              "      <td>0</td>\n",
              "      <td>0</td>\n",
              "      <td>222</td>\n",
              "    </tr>\n",
              "  </tbody>\n",
              "</table>\n",
              "</div>"
            ],
            "text/plain": [
              "   mid        date                  venue               bat_team  \\\n",
              "0    1  2008-04-18  M Chinnaswamy Stadium  Kolkata Knight Riders   \n",
              "1    1  2008-04-18  M Chinnaswamy Stadium  Kolkata Knight Riders   \n",
              "\n",
              "                     bowl_team      batsman   bowler  runs  wickets  overs  \\\n",
              "0  Royal Challengers Bangalore   SC Ganguly  P Kumar     1        0    0.1   \n",
              "1  Royal Challengers Bangalore  BB McCullum  P Kumar     1        0    0.2   \n",
              "\n",
              "   runs_last_5  wickets_last_5  striker  non-striker  total  \n",
              "0            1               0        0            0    222  \n",
              "1            1               0        0            0    222  "
            ]
          },
          "execution_count": 1,
          "metadata": {},
          "output_type": "execute_result"
        }
      ],
      "source": [
        "# dependecies\n",
        "import pandas as pd\n",
        "import pickle\n",
        "\n",
        "\n",
        "# loading dataset\n",
        "df = pd.read_csv('ipl.csv')\n",
        "df.head(2)"
      ]
    },
    {
      "cell_type": "markdown",
      "id": "7b7fe19c",
      "metadata": {
        "id": "7b7fe19c"
      },
      "source": [
        "# EDA"
      ]
    },
    {
      "cell_type": "code",
      "execution_count": 2,
      "id": "924fc47b",
      "metadata": {
        "colab": {
          "base_uri": "https://localhost:8080/"
        },
        "id": "924fc47b",
        "outputId": "9f5e9d6c-95af-486a-b7f5-13f615f03b24"
      },
      "outputs": [
        {
          "data": {
            "text/plain": [
              "(76014, 15)"
            ]
          },
          "execution_count": 2,
          "metadata": {},
          "output_type": "execute_result"
        }
      ],
      "source": [
        "#checking shape of data\n",
        "df.shape"
      ]
    },
    {
      "cell_type": "code",
      "execution_count": 3,
      "id": "51672891",
      "metadata": {
        "colab": {
          "base_uri": "https://localhost:8080/"
        },
        "id": "51672891",
        "outputId": "571378af-e19f-4283-fa6d-07eb9e7c99b2"
      },
      "outputs": [
        {
          "data": {
            "text/plain": [
              "mid               0\n",
              "date              0\n",
              "venue             0\n",
              "bat_team          0\n",
              "bowl_team         0\n",
              "batsman           0\n",
              "bowler            0\n",
              "runs              0\n",
              "wickets           0\n",
              "overs             0\n",
              "runs_last_5       0\n",
              "wickets_last_5    0\n",
              "striker           0\n",
              "non-striker       0\n",
              "total             0\n",
              "dtype: int64"
            ]
          },
          "execution_count": 3,
          "metadata": {},
          "output_type": "execute_result"
        }
      ],
      "source": [
        "# check null values and then sum it up\n",
        "df.isnull().sum()"
      ]
    },
    {
      "cell_type": "code",
      "execution_count": 4,
      "id": "8e860e52",
      "metadata": {
        "colab": {
          "base_uri": "https://localhost:8080/",
          "height": 300
        },
        "id": "8e860e52",
        "outputId": "391bc745-24f6-461b-950c-88cabc3dae74"
      },
      "outputs": [
        {
          "data": {
            "text/html": [
              "<div>\n",
              "<style scoped>\n",
              "    .dataframe tbody tr th:only-of-type {\n",
              "        vertical-align: middle;\n",
              "    }\n",
              "\n",
              "    .dataframe tbody tr th {\n",
              "        vertical-align: top;\n",
              "    }\n",
              "\n",
              "    .dataframe thead th {\n",
              "        text-align: right;\n",
              "    }\n",
              "</style>\n",
              "<table border=\"1\" class=\"dataframe\">\n",
              "  <thead>\n",
              "    <tr style=\"text-align: right;\">\n",
              "      <th></th>\n",
              "      <th>mid</th>\n",
              "      <th>runs</th>\n",
              "      <th>wickets</th>\n",
              "      <th>overs</th>\n",
              "      <th>runs_last_5</th>\n",
              "      <th>wickets_last_5</th>\n",
              "      <th>striker</th>\n",
              "      <th>non-striker</th>\n",
              "      <th>total</th>\n",
              "    </tr>\n",
              "  </thead>\n",
              "  <tbody>\n",
              "    <tr>\n",
              "      <th>count</th>\n",
              "      <td>76014.000000</td>\n",
              "      <td>76014.000000</td>\n",
              "      <td>76014.000000</td>\n",
              "      <td>76014.000000</td>\n",
              "      <td>76014.000000</td>\n",
              "      <td>76014.000000</td>\n",
              "      <td>76014.000000</td>\n",
              "      <td>76014.000000</td>\n",
              "      <td>76014.000000</td>\n",
              "    </tr>\n",
              "    <tr>\n",
              "      <th>mean</th>\n",
              "      <td>308.627740</td>\n",
              "      <td>74.889349</td>\n",
              "      <td>2.415844</td>\n",
              "      <td>9.783068</td>\n",
              "      <td>33.216434</td>\n",
              "      <td>1.120307</td>\n",
              "      <td>24.962283</td>\n",
              "      <td>8.869287</td>\n",
              "      <td>160.901452</td>\n",
              "    </tr>\n",
              "    <tr>\n",
              "      <th>std</th>\n",
              "      <td>178.156878</td>\n",
              "      <td>48.823327</td>\n",
              "      <td>2.015207</td>\n",
              "      <td>5.772587</td>\n",
              "      <td>14.914174</td>\n",
              "      <td>1.053343</td>\n",
              "      <td>20.079752</td>\n",
              "      <td>10.795742</td>\n",
              "      <td>29.246231</td>\n",
              "    </tr>\n",
              "    <tr>\n",
              "      <th>min</th>\n",
              "      <td>1.000000</td>\n",
              "      <td>0.000000</td>\n",
              "      <td>0.000000</td>\n",
              "      <td>0.000000</td>\n",
              "      <td>0.000000</td>\n",
              "      <td>0.000000</td>\n",
              "      <td>0.000000</td>\n",
              "      <td>0.000000</td>\n",
              "      <td>67.000000</td>\n",
              "    </tr>\n",
              "    <tr>\n",
              "      <th>25%</th>\n",
              "      <td>154.000000</td>\n",
              "      <td>34.000000</td>\n",
              "      <td>1.000000</td>\n",
              "      <td>4.600000</td>\n",
              "      <td>24.000000</td>\n",
              "      <td>0.000000</td>\n",
              "      <td>10.000000</td>\n",
              "      <td>1.000000</td>\n",
              "      <td>142.000000</td>\n",
              "    </tr>\n",
              "    <tr>\n",
              "      <th>50%</th>\n",
              "      <td>308.000000</td>\n",
              "      <td>70.000000</td>\n",
              "      <td>2.000000</td>\n",
              "      <td>9.600000</td>\n",
              "      <td>34.000000</td>\n",
              "      <td>1.000000</td>\n",
              "      <td>20.000000</td>\n",
              "      <td>5.000000</td>\n",
              "      <td>162.000000</td>\n",
              "    </tr>\n",
              "    <tr>\n",
              "      <th>75%</th>\n",
              "      <td>463.000000</td>\n",
              "      <td>111.000000</td>\n",
              "      <td>4.000000</td>\n",
              "      <td>14.600000</td>\n",
              "      <td>43.000000</td>\n",
              "      <td>2.000000</td>\n",
              "      <td>35.000000</td>\n",
              "      <td>13.000000</td>\n",
              "      <td>181.000000</td>\n",
              "    </tr>\n",
              "    <tr>\n",
              "      <th>max</th>\n",
              "      <td>617.000000</td>\n",
              "      <td>263.000000</td>\n",
              "      <td>10.000000</td>\n",
              "      <td>19.600000</td>\n",
              "      <td>113.000000</td>\n",
              "      <td>7.000000</td>\n",
              "      <td>175.000000</td>\n",
              "      <td>109.000000</td>\n",
              "      <td>263.000000</td>\n",
              "    </tr>\n",
              "  </tbody>\n",
              "</table>\n",
              "</div>"
            ],
            "text/plain": [
              "                mid          runs       wickets         overs   runs_last_5  \\\n",
              "count  76014.000000  76014.000000  76014.000000  76014.000000  76014.000000   \n",
              "mean     308.627740     74.889349      2.415844      9.783068     33.216434   \n",
              "std      178.156878     48.823327      2.015207      5.772587     14.914174   \n",
              "min        1.000000      0.000000      0.000000      0.000000      0.000000   \n",
              "25%      154.000000     34.000000      1.000000      4.600000     24.000000   \n",
              "50%      308.000000     70.000000      2.000000      9.600000     34.000000   \n",
              "75%      463.000000    111.000000      4.000000     14.600000     43.000000   \n",
              "max      617.000000    263.000000     10.000000     19.600000    113.000000   \n",
              "\n",
              "       wickets_last_5       striker   non-striker         total  \n",
              "count    76014.000000  76014.000000  76014.000000  76014.000000  \n",
              "mean         1.120307     24.962283      8.869287    160.901452  \n",
              "std          1.053343     20.079752     10.795742     29.246231  \n",
              "min          0.000000      0.000000      0.000000     67.000000  \n",
              "25%          0.000000     10.000000      1.000000    142.000000  \n",
              "50%          1.000000     20.000000      5.000000    162.000000  \n",
              "75%          2.000000     35.000000     13.000000    181.000000  \n",
              "max          7.000000    175.000000    109.000000    263.000000  "
            ]
          },
          "execution_count": 4,
          "metadata": {},
          "output_type": "execute_result"
        }
      ],
      "source": [
        "# Check summary stats using df.describe()\n",
        "df.describe()"
      ]
    },
    {
      "cell_type": "code",
      "execution_count": 5,
      "id": "ce7f2415",
      "metadata": {
        "colab": {
          "base_uri": "https://localhost:8080/"
        },
        "id": "ce7f2415",
        "outputId": "c02acc4b-f0c0-43c1-9316-2bc070d15d00"
      },
      "outputs": [
        {
          "data": {
            "text/plain": [
              "Index(['mid', 'date', 'venue', 'bat_team', 'bowl_team', 'batsman', 'bowler',\n",
              "       'runs', 'wickets', 'overs', 'runs_last_5', 'wickets_last_5', 'striker',\n",
              "       'non-striker', 'total'],\n",
              "      dtype='object')"
            ]
          },
          "execution_count": 5,
          "metadata": {},
          "output_type": "execute_result"
        }
      ],
      "source": [
        "df.columns"
      ]
    },
    {
      "cell_type": "code",
      "execution_count": 6,
      "id": "76850210",
      "metadata": {
        "colab": {
          "base_uri": "https://localhost:8080/",
          "height": 616
        },
        "id": "76850210",
        "outputId": "acef7bb4-7259-4b6f-b842-72c885cf25b5"
      },
      "outputs": [
        {
          "data": {
            "text/plain": [
              "<Axes: >"
            ]
          },
          "execution_count": 6,
          "metadata": {},
          "output_type": "execute_result"
        },
        {
          "data": {
            "image/png": "[encoded data removed]",
            "text/plain": [
              "<Figure size 700x700 with 1 Axes>"
            ]
          },
          "metadata": {},
          "output_type": "display_data"
        }
      ],
      "source": [
        "# plot area / contributions in dataset\n",
        "df[['venue', 'bat_team', 'bowl_team', 'batsman', 'bowler',\n",
        "       'runs', 'wickets', 'overs', 'runs_last_5', 'wickets_last_5', 'striker',\n",
        "       'non-striker']][:50].plot(kind = 'area', figsize = (7,7), stacked = False)"
      ]
    },
    {
      "cell_type": "markdown",
      "id": "99233240",
      "metadata": {
        "id": "99233240"
      },
      "source": [
        "# Data Cleaning"
      ]
    },
    {
      "cell_type": "code",
      "execution_count": 7,
      "id": "b7ee9360",
      "metadata": {
        "id": "b7ee9360"
      },
      "outputs": [],
      "source": [
        "# Removing unwanted cols - reduce memory size\n",
        "cols_to_remove = ['mid' , 'venue' , 'batsman', 'bowler', 'striker', 'non-striker']\n",
        "df.drop(labels=cols_to_remove , axis=1 , inplace = True)\n"
      ]
    },
    {
      "cell_type": "code",
      "execution_count": 8,
      "id": "63b75f1d",
      "metadata": {
        "colab": {
          "base_uri": "https://localhost:8080/",
          "height": 143
        },
        "id": "63b75f1d",
        "outputId": "5cd0408d-fdf3-4cef-b381-40729cf65269"
      },
      "outputs": [
        {
          "data": {
            "text/html": [
              "<div>\n",
              "<style scoped>\n",
              "    .dataframe tbody tr th:only-of-type {\n",
              "        vertical-align: middle;\n",
              "    }\n",
              "\n",
              "    .dataframe tbody tr th {\n",
              "        vertical-align: top;\n",
              "    }\n",
              "\n",
              "    .dataframe thead th {\n",
              "        text-align: right;\n",
              "    }\n",
              "</style>\n",
              "<table border=\"1\" class=\"dataframe\">\n",
              "  <thead>\n",
              "    <tr style=\"text-align: right;\">\n",
              "      <th></th>\n",
              "      <th>date</th>\n",
              "      <th>bat_team</th>\n",
              "      <th>bowl_team</th>\n",
              "      <th>runs</th>\n",
              "      <th>wickets</th>\n",
              "      <th>overs</th>\n",
              "      <th>runs_last_5</th>\n",
              "      <th>wickets_last_5</th>\n",
              "      <th>total</th>\n",
              "    </tr>\n",
              "  </thead>\n",
              "  <tbody>\n",
              "    <tr>\n",
              "      <th>0</th>\n",
              "      <td>2008-04-18</td>\n",
              "      <td>Kolkata Knight Riders</td>\n",
              "      <td>Royal Challengers Bangalore</td>\n",
              "      <td>1</td>\n",
              "      <td>0</td>\n",
              "      <td>0.1</td>\n",
              "      <td>1</td>\n",
              "      <td>0</td>\n",
              "      <td>222</td>\n",
              "    </tr>\n",
              "    <tr>\n",
              "      <th>1</th>\n",
              "      <td>2008-04-18</td>\n",
              "      <td>Kolkata Knight Riders</td>\n",
              "      <td>Royal Challengers Bangalore</td>\n",
              "      <td>1</td>\n",
              "      <td>0</td>\n",
              "      <td>0.2</td>\n",
              "      <td>1</td>\n",
              "      <td>0</td>\n",
              "      <td>222</td>\n",
              "    </tr>\n",
              "    <tr>\n",
              "      <th>2</th>\n",
              "      <td>2008-04-18</td>\n",
              "      <td>Kolkata Knight Riders</td>\n",
              "      <td>Royal Challengers Bangalore</td>\n",
              "      <td>2</td>\n",
              "      <td>0</td>\n",
              "      <td>0.2</td>\n",
              "      <td>2</td>\n",
              "      <td>0</td>\n",
              "      <td>222</td>\n",
              "    </tr>\n",
              "  </tbody>\n",
              "</table>\n",
              "</div>"
            ],
            "text/plain": [
              "         date               bat_team                    bowl_team  runs  \\\n",
              "0  2008-04-18  Kolkata Knight Riders  Royal Challengers Bangalore     1   \n",
              "1  2008-04-18  Kolkata Knight Riders  Royal Challengers Bangalore     1   \n",
              "2  2008-04-18  Kolkata Knight Riders  Royal Challengers Bangalore     2   \n",
              "\n",
              "   wickets  overs  runs_last_5  wickets_last_5  total  \n",
              "0        0    0.1            1               0    222  \n",
              "1        0    0.2            1               0    222  \n",
              "2        0    0.2            2               0    222  "
            ]
          },
          "execution_count": 8,
          "metadata": {},
          "output_type": "execute_result"
        }
      ],
      "source": [
        "#corss check\n",
        "df.head(3)"
      ]
    },
    {
      "cell_type": "code",
      "execution_count": 9,
      "id": "2749cd06",
      "metadata": {
        "colab": {
          "base_uri": "https://localhost:8080/"
        },
        "id": "2749cd06",
        "outputId": "3cd32b30-5cc9-4c63-9012-8ef3c840d28d"
      },
      "outputs": [
        {
          "data": {
            "text/plain": [
              "(76014, 9)"
            ]
          },
          "execution_count": 9,
          "metadata": {},
          "output_type": "execute_result"
        }
      ],
      "source": [
        "df.shape"
      ]
    },
    {
      "cell_type": "code",
      "execution_count": 10,
      "id": "db0a1eb4",
      "metadata": {
        "colab": {
          "base_uri": "https://localhost:8080/"
        },
        "id": "db0a1eb4",
        "outputId": "64c00849-429d-4a32-d7ae-7afb02ee2ee4"
      },
      "outputs": [
        {
          "data": {
            "text/plain": [
              "array(['Kolkata Knight Riders', 'Chennai Super Kings', 'Rajasthan Royals',\n",
              "       'Mumbai Indians', 'Deccan Chargers', 'Kings XI Punjab',\n",
              "       'Royal Challengers Bangalore', 'Delhi Daredevils',\n",
              "       'Kochi Tuskers Kerala', 'Pune Warriors', 'Sunrisers Hyderabad',\n",
              "       'Rising Pune Supergiants', 'Gujarat Lions',\n",
              "       'Rising Pune Supergiant'], dtype=object)"
            ]
          },
          "execution_count": 10,
          "metadata": {},
          "output_type": "execute_result"
        }
      ],
      "source": [
        "# checking for how many batting teams are there\n",
        "df['bat_team'].unique()"
      ]
    },
    {
      "cell_type": "code",
      "execution_count": 11,
      "id": "81328d36",
      "metadata": {
        "id": "81328d36"
      },
      "outputs": [],
      "source": [
        "# only keep current team which are present\n",
        "consistent_team = ['Kolkata Knight Riders', 'Chennai Super Kings', 'Rajasthan Royals',\n",
        "       'Mumbai Indians','Kings XI Punjab',\n",
        "       'Royal Challengers Bangalore', 'Delhi Daredevils','Sunrisers Hyderabad']"
      ]
    },
    {
      "cell_type": "code",
      "execution_count": 12,
      "id": "0f0e63ab",
      "metadata": {
        "id": "0f0e63ab"
      },
      "outputs": [],
      "source": [
        "# filtering based on consistency\n",
        "df = df[(df['bat_team'].isin(consistent_team)) & (df['bowl_team'].isin(consistent_team))]"
      ]
    },
    {
      "cell_type": "code",
      "execution_count": 13,
      "id": "b4f8b060",
      "metadata": {
        "colab": {
          "base_uri": "https://localhost:8080/",
          "height": 206
        },
        "id": "b4f8b060",
        "outputId": "7b31fa5a-3df4-43c3-c17d-fd47c7efbca0"
      },
      "outputs": [
        {
          "data": {
            "text/html": [
              "<div>\n",
              "<style scoped>\n",
              "    .dataframe tbody tr th:only-of-type {\n",
              "        vertical-align: middle;\n",
              "    }\n",
              "\n",
              "    .dataframe tbody tr th {\n",
              "        vertical-align: top;\n",
              "    }\n",
              "\n",
              "    .dataframe thead th {\n",
              "        text-align: right;\n",
              "    }\n",
              "</style>\n",
              "<table border=\"1\" class=\"dataframe\">\n",
              "  <thead>\n",
              "    <tr style=\"text-align: right;\">\n",
              "      <th></th>\n",
              "      <th>date</th>\n",
              "      <th>bat_team</th>\n",
              "      <th>bowl_team</th>\n",
              "      <th>runs</th>\n",
              "      <th>wickets</th>\n",
              "      <th>overs</th>\n",
              "      <th>runs_last_5</th>\n",
              "      <th>wickets_last_5</th>\n",
              "      <th>total</th>\n",
              "    </tr>\n",
              "  </thead>\n",
              "  <tbody>\n",
              "    <tr>\n",
              "      <th>0</th>\n",
              "      <td>2008-04-18</td>\n",
              "      <td>Kolkata Knight Riders</td>\n",
              "      <td>Royal Challengers Bangalore</td>\n",
              "      <td>1</td>\n",
              "      <td>0</td>\n",
              "      <td>0.1</td>\n",
              "      <td>1</td>\n",
              "      <td>0</td>\n",
              "      <td>222</td>\n",
              "    </tr>\n",
              "    <tr>\n",
              "      <th>1</th>\n",
              "      <td>2008-04-18</td>\n",
              "      <td>Kolkata Knight Riders</td>\n",
              "      <td>Royal Challengers Bangalore</td>\n",
              "      <td>1</td>\n",
              "      <td>0</td>\n",
              "      <td>0.2</td>\n",
              "      <td>1</td>\n",
              "      <td>0</td>\n",
              "      <td>222</td>\n",
              "    </tr>\n",
              "    <tr>\n",
              "      <th>2</th>\n",
              "      <td>2008-04-18</td>\n",
              "      <td>Kolkata Knight Riders</td>\n",
              "      <td>Royal Challengers Bangalore</td>\n",
              "      <td>2</td>\n",
              "      <td>0</td>\n",
              "      <td>0.2</td>\n",
              "      <td>2</td>\n",
              "      <td>0</td>\n",
              "      <td>222</td>\n",
              "    </tr>\n",
              "    <tr>\n",
              "      <th>3</th>\n",
              "      <td>2008-04-18</td>\n",
              "      <td>Kolkata Knight Riders</td>\n",
              "      <td>Royal Challengers Bangalore</td>\n",
              "      <td>2</td>\n",
              "      <td>0</td>\n",
              "      <td>0.3</td>\n",
              "      <td>2</td>\n",
              "      <td>0</td>\n",
              "      <td>222</td>\n",
              "    </tr>\n",
              "    <tr>\n",
              "      <th>4</th>\n",
              "      <td>2008-04-18</td>\n",
              "      <td>Kolkata Knight Riders</td>\n",
              "      <td>Royal Challengers Bangalore</td>\n",
              "      <td>2</td>\n",
              "      <td>0</td>\n",
              "      <td>0.4</td>\n",
              "      <td>2</td>\n",
              "      <td>0</td>\n",
              "      <td>222</td>\n",
              "    </tr>\n",
              "  </tbody>\n",
              "</table>\n",
              "</div>"
            ],
            "text/plain": [
              "         date               bat_team                    bowl_team  runs  \\\n",
              "0  2008-04-18  Kolkata Knight Riders  Royal Challengers Bangalore     1   \n",
              "1  2008-04-18  Kolkata Knight Riders  Royal Challengers Bangalore     1   \n",
              "2  2008-04-18  Kolkata Knight Riders  Royal Challengers Bangalore     2   \n",
              "3  2008-04-18  Kolkata Knight Riders  Royal Challengers Bangalore     2   \n",
              "4  2008-04-18  Kolkata Knight Riders  Royal Challengers Bangalore     2   \n",
              "\n",
              "   wickets  overs  runs_last_5  wickets_last_5  total  \n",
              "0        0    0.1            1               0    222  \n",
              "1        0    0.2            1               0    222  \n",
              "2        0    0.2            2               0    222  \n",
              "3        0    0.3            2               0    222  \n",
              "4        0    0.4            2               0    222  "
            ]
          },
          "execution_count": 13,
          "metadata": {},
          "output_type": "execute_result"
        }
      ],
      "source": [
        "df.head()"
      ]
    },
    {
      "cell_type": "code",
      "execution_count": 14,
      "id": "13fc7a82",
      "metadata": {
        "colab": {
          "base_uri": "https://localhost:8080/"
        },
        "id": "13fc7a82",
        "outputId": "4fd55ddf-370d-42b0-f961-a402c148a2cc"
      },
      "outputs": [
        {
          "name": "stdout",
          "output_type": "stream",
          "text": [
            "['Kolkata Knight Riders' 'Chennai Super Kings' 'Rajasthan Royals'\n",
            " 'Mumbai Indians' 'Kings XI Punjab' 'Royal Challengers Bangalore'\n",
            " 'Delhi Daredevils' 'Sunrisers Hyderabad']\n",
            "['Royal Challengers Bangalore' 'Kings XI Punjab' 'Delhi Daredevils'\n",
            " 'Rajasthan Royals' 'Mumbai Indians' 'Chennai Super Kings'\n",
            " 'Kolkata Knight Riders' 'Sunrisers Hyderabad']\n"
          ]
        }
      ],
      "source": [
        "# printing out unique team after filtering\n",
        "print(df['bat_team'].unique())\n",
        "print(df['bowl_team'].unique())"
      ]
    },
    {
      "cell_type": "code",
      "execution_count": 15,
      "id": "307e65ca",
      "metadata": {
        "colab": {
          "base_uri": "https://localhost:8080/",
          "height": 206
        },
        "id": "307e65ca",
        "outputId": "8e66afef-28e0-4de9-a9bc-0e38faa8720f"
      },
      "outputs": [
        {
          "data": {
            "text/html": [
              "<div>\n",
              "<style scoped>\n",
              "    .dataframe tbody tr th:only-of-type {\n",
              "        vertical-align: middle;\n",
              "    }\n",
              "\n",
              "    .dataframe tbody tr th {\n",
              "        vertical-align: top;\n",
              "    }\n",
              "\n",
              "    .dataframe thead th {\n",
              "        text-align: right;\n",
              "    }\n",
              "</style>\n",
              "<table border=\"1\" class=\"dataframe\">\n",
              "  <thead>\n",
              "    <tr style=\"text-align: right;\">\n",
              "      <th></th>\n",
              "      <th>date</th>\n",
              "      <th>bat_team</th>\n",
              "      <th>bowl_team</th>\n",
              "      <th>runs</th>\n",
              "      <th>wickets</th>\n",
              "      <th>overs</th>\n",
              "      <th>runs_last_5</th>\n",
              "      <th>wickets_last_5</th>\n",
              "      <th>total</th>\n",
              "    </tr>\n",
              "  </thead>\n",
              "  <tbody>\n",
              "    <tr>\n",
              "      <th>32</th>\n",
              "      <td>2008-04-18</td>\n",
              "      <td>Kolkata Knight Riders</td>\n",
              "      <td>Royal Challengers Bangalore</td>\n",
              "      <td>61</td>\n",
              "      <td>0</td>\n",
              "      <td>5.1</td>\n",
              "      <td>59</td>\n",
              "      <td>0</td>\n",
              "      <td>222</td>\n",
              "    </tr>\n",
              "    <tr>\n",
              "      <th>33</th>\n",
              "      <td>2008-04-18</td>\n",
              "      <td>Kolkata Knight Riders</td>\n",
              "      <td>Royal Challengers Bangalore</td>\n",
              "      <td>61</td>\n",
              "      <td>1</td>\n",
              "      <td>5.2</td>\n",
              "      <td>59</td>\n",
              "      <td>1</td>\n",
              "      <td>222</td>\n",
              "    </tr>\n",
              "    <tr>\n",
              "      <th>34</th>\n",
              "      <td>2008-04-18</td>\n",
              "      <td>Kolkata Knight Riders</td>\n",
              "      <td>Royal Challengers Bangalore</td>\n",
              "      <td>61</td>\n",
              "      <td>1</td>\n",
              "      <td>5.3</td>\n",
              "      <td>59</td>\n",
              "      <td>1</td>\n",
              "      <td>222</td>\n",
              "    </tr>\n",
              "    <tr>\n",
              "      <th>35</th>\n",
              "      <td>2008-04-18</td>\n",
              "      <td>Kolkata Knight Riders</td>\n",
              "      <td>Royal Challengers Bangalore</td>\n",
              "      <td>61</td>\n",
              "      <td>1</td>\n",
              "      <td>5.4</td>\n",
              "      <td>59</td>\n",
              "      <td>1</td>\n",
              "      <td>222</td>\n",
              "    </tr>\n",
              "    <tr>\n",
              "      <th>36</th>\n",
              "      <td>2008-04-18</td>\n",
              "      <td>Kolkata Knight Riders</td>\n",
              "      <td>Royal Challengers Bangalore</td>\n",
              "      <td>61</td>\n",
              "      <td>1</td>\n",
              "      <td>5.5</td>\n",
              "      <td>58</td>\n",
              "      <td>1</td>\n",
              "      <td>222</td>\n",
              "    </tr>\n",
              "  </tbody>\n",
              "</table>\n",
              "</div>"
            ],
            "text/plain": [
              "          date               bat_team                    bowl_team  runs  \\\n",
              "32  2008-04-18  Kolkata Knight Riders  Royal Challengers Bangalore    61   \n",
              "33  2008-04-18  Kolkata Knight Riders  Royal Challengers Bangalore    61   \n",
              "34  2008-04-18  Kolkata Knight Riders  Royal Challengers Bangalore    61   \n",
              "35  2008-04-18  Kolkata Knight Riders  Royal Challengers Bangalore    61   \n",
              "36  2008-04-18  Kolkata Knight Riders  Royal Challengers Bangalore    61   \n",
              "\n",
              "    wickets  overs  runs_last_5  wickets_last_5  total  \n",
              "32        0    5.1           59               0    222  \n",
              "33        1    5.2           59               1    222  \n",
              "34        1    5.3           59               1    222  \n",
              "35        1    5.4           59               1    222  \n",
              "36        1    5.5           58               1    222  "
            ]
          },
          "execution_count": 15,
          "metadata": {},
          "output_type": "execute_result"
        }
      ],
      "source": [
        "# since for every match one can predict more accurately if one has 5 over data so,\n",
        "# filtering based on 5 overs\n",
        "df = df[df['overs']>=5.0]\n",
        "df.head()"
      ]
    },
    {
      "cell_type": "code",
      "execution_count": 16,
      "id": "f193ac8e",
      "metadata": {
        "colab": {
          "base_uri": "https://localhost:8080/",
          "height": 206
        },
        "id": "f193ac8e",
        "outputId": "0d2f1de1-fd6d-46e0-a2d7-6f2c40a90d36"
      },
      "outputs": [
        {
          "data": {
            "text/html": [
              "<div>\n",
              "<style scoped>\n",
              "    .dataframe tbody tr th:only-of-type {\n",
              "        vertical-align: middle;\n",
              "    }\n",
              "\n",
              "    .dataframe tbody tr th {\n",
              "        vertical-align: top;\n",
              "    }\n",
              "\n",
              "    .dataframe thead th {\n",
              "        text-align: right;\n",
              "    }\n",
              "</style>\n",
              "<table border=\"1\" class=\"dataframe\">\n",
              "  <thead>\n",
              "    <tr style=\"text-align: right;\">\n",
              "      <th></th>\n",
              "      <th>date</th>\n",
              "      <th>bat_team</th>\n",
              "      <th>bowl_team</th>\n",
              "      <th>runs</th>\n",
              "      <th>wickets</th>\n",
              "      <th>overs</th>\n",
              "      <th>runs_last_5</th>\n",
              "      <th>wickets_last_5</th>\n",
              "      <th>total</th>\n",
              "    </tr>\n",
              "  </thead>\n",
              "  <tbody>\n",
              "    <tr>\n",
              "      <th>32</th>\n",
              "      <td>2008-04-18</td>\n",
              "      <td>Kolkata Knight Riders</td>\n",
              "      <td>Royal Challengers Bangalore</td>\n",
              "      <td>61</td>\n",
              "      <td>0</td>\n",
              "      <td>5.1</td>\n",
              "      <td>59</td>\n",
              "      <td>0</td>\n",
              "      <td>222</td>\n",
              "    </tr>\n",
              "    <tr>\n",
              "      <th>33</th>\n",
              "      <td>2008-04-18</td>\n",
              "      <td>Kolkata Knight Riders</td>\n",
              "      <td>Royal Challengers Bangalore</td>\n",
              "      <td>61</td>\n",
              "      <td>1</td>\n",
              "      <td>5.2</td>\n",
              "      <td>59</td>\n",
              "      <td>1</td>\n",
              "      <td>222</td>\n",
              "    </tr>\n",
              "    <tr>\n",
              "      <th>34</th>\n",
              "      <td>2008-04-18</td>\n",
              "      <td>Kolkata Knight Riders</td>\n",
              "      <td>Royal Challengers Bangalore</td>\n",
              "      <td>61</td>\n",
              "      <td>1</td>\n",
              "      <td>5.3</td>\n",
              "      <td>59</td>\n",
              "      <td>1</td>\n",
              "      <td>222</td>\n",
              "    </tr>\n",
              "    <tr>\n",
              "      <th>35</th>\n",
              "      <td>2008-04-18</td>\n",
              "      <td>Kolkata Knight Riders</td>\n",
              "      <td>Royal Challengers Bangalore</td>\n",
              "      <td>61</td>\n",
              "      <td>1</td>\n",
              "      <td>5.4</td>\n",
              "      <td>59</td>\n",
              "      <td>1</td>\n",
              "      <td>222</td>\n",
              "    </tr>\n",
              "    <tr>\n",
              "      <th>36</th>\n",
              "      <td>2008-04-18</td>\n",
              "      <td>Kolkata Knight Riders</td>\n",
              "      <td>Royal Challengers Bangalore</td>\n",
              "      <td>61</td>\n",
              "      <td>1</td>\n",
              "      <td>5.5</td>\n",
              "      <td>58</td>\n",
              "      <td>1</td>\n",
              "      <td>222</td>\n",
              "    </tr>\n",
              "  </tbody>\n",
              "</table>\n",
              "</div>"
            ],
            "text/plain": [
              "          date               bat_team                    bowl_team  runs  \\\n",
              "32  2008-04-18  Kolkata Knight Riders  Royal Challengers Bangalore    61   \n",
              "33  2008-04-18  Kolkata Knight Riders  Royal Challengers Bangalore    61   \n",
              "34  2008-04-18  Kolkata Knight Riders  Royal Challengers Bangalore    61   \n",
              "35  2008-04-18  Kolkata Knight Riders  Royal Challengers Bangalore    61   \n",
              "36  2008-04-18  Kolkata Knight Riders  Royal Challengers Bangalore    61   \n",
              "\n",
              "    wickets  overs  runs_last_5  wickets_last_5  total  \n",
              "32        0    5.1           59               0    222  \n",
              "33        1    5.2           59               1    222  \n",
              "34        1    5.3           59               1    222  \n",
              "35        1    5.4           59               1    222  \n",
              "36        1    5.5           58               1    222  "
            ]
          },
          "execution_count": 16,
          "metadata": {},
          "output_type": "execute_result"
        }
      ],
      "source": [
        "df.head()"
      ]
    },
    {
      "cell_type": "code",
      "execution_count": 17,
      "id": "942707bb",
      "metadata": {
        "colab": {
          "base_uri": "https://localhost:8080/"
        },
        "id": "942707bb",
        "outputId": "72d85ce9-7506-436a-de9f-db7d3d4dc5e2"
      },
      "outputs": [
        {
          "name": "stdout",
          "output_type": "stream",
          "text": [
            "<class 'pandas.core.frame.DataFrame'>\n",
            "Index: 40108 entries, 32 to 75888\n",
            "Data columns (total 9 columns):\n",
            " #   Column          Non-Null Count  Dtype  \n",
            "---  ------          --------------  -----  \n",
            " 0   date            40108 non-null  object \n",
            " 1   bat_team        40108 non-null  object \n",
            " 2   bowl_team       40108 non-null  object \n",
            " 3   runs            40108 non-null  int64  \n",
            " 4   wickets         40108 non-null  int64  \n",
            " 5   overs           40108 non-null  float64\n",
            " 6   runs_last_5     40108 non-null  int64  \n",
            " 7   wickets_last_5  40108 non-null  int64  \n",
            " 8   total           40108 non-null  int64  \n",
            "dtypes: float64(1), int64(5), object(3)\n",
            "memory usage: 3.1+ MB\n"
          ]
        }
      ],
      "source": [
        "# getting data type\n",
        "df.info()"
      ]
    },
    {
      "cell_type": "code",
      "execution_count": 18,
      "id": "17d49f97",
      "metadata": {
        "id": "17d49f97"
      },
      "outputs": [],
      "source": [
        "# converting date cols from string to date time object\n",
        "from datetime import datetime\n",
        "df['date'] = df['date'].apply(lambda x: datetime.strptime(x, '%Y-%m-%d'))\n"
      ]
    },
    {
      "cell_type": "code",
      "execution_count": 19,
      "id": "c7645237",
      "metadata": {
        "colab": {
          "base_uri": "https://localhost:8080/"
        },
        "id": "c7645237",
        "outputId": "b868721c-ae36-4247-eb3e-5010f8374119"
      },
      "outputs": [
        {
          "data": {
            "text/plain": [
              "dtype('<M8[ns]')"
            ]
          },
          "execution_count": 19,
          "metadata": {},
          "output_type": "execute_result"
        }
      ],
      "source": [
        "df['date'].dtype"
      ]
    },
    {
      "cell_type": "markdown",
      "id": "c4f85ca4",
      "metadata": {
        "id": "c4f85ca4"
      },
      "source": [
        "# Data Processing"
      ]
    },
    {
      "cell_type": "code",
      "execution_count": 20,
      "id": "39cc43ca",
      "metadata": {
        "id": "39cc43ca"
      },
      "outputs": [],
      "source": [
        "# converting categorical features using 'One Hot Encoding' # for numerical values\n",
        "cat_df = pd.get_dummies(data = df, columns = ['bat_team' , 'bowl_team'])"
      ]
    },
    {
      "cell_type": "code",
      "execution_count": 21,
      "id": "fd97eb05",
      "metadata": {
        "colab": {
          "base_uri": "https://localhost:8080/",
          "height": 231
        },
        "id": "fd97eb05",
        "outputId": "366273d0-ae73-4348-f138-dab96b6202f7"
      },
      "outputs": [
        {
          "data": {
            "text/html": [
              "<div>\n",
              "<style scoped>\n",
              "    .dataframe tbody tr th:only-of-type {\n",
              "        vertical-align: middle;\n",
              "    }\n",
              "\n",
              "    .dataframe tbody tr th {\n",
              "        vertical-align: top;\n",
              "    }\n",
              "\n",
              "    .dataframe thead th {\n",
              "        text-align: right;\n",
              "    }\n",
              "</style>\n",
              "<table border=\"1\" class=\"dataframe\">\n",
              "  <thead>\n",
              "    <tr style=\"text-align: right;\">\n",
              "      <th></th>\n",
              "      <th>date</th>\n",
              "      <th>runs</th>\n",
              "      <th>wickets</th>\n",
              "      <th>overs</th>\n",
              "      <th>runs_last_5</th>\n",
              "      <th>wickets_last_5</th>\n",
              "      <th>total</th>\n",
              "      <th>bat_team_Chennai Super Kings</th>\n",
              "      <th>bat_team_Delhi Daredevils</th>\n",
              "      <th>bat_team_Kings XI Punjab</th>\n",
              "      <th>...</th>\n",
              "      <th>bat_team_Royal Challengers Bangalore</th>\n",
              "      <th>bat_team_Sunrisers Hyderabad</th>\n",
              "      <th>bowl_team_Chennai Super Kings</th>\n",
              "      <th>bowl_team_Delhi Daredevils</th>\n",
              "      <th>bowl_team_Kings XI Punjab</th>\n",
              "      <th>bowl_team_Kolkata Knight Riders</th>\n",
              "      <th>bowl_team_Mumbai Indians</th>\n",
              "      <th>bowl_team_Rajasthan Royals</th>\n",
              "      <th>bowl_team_Royal Challengers Bangalore</th>\n",
              "      <th>bowl_team_Sunrisers Hyderabad</th>\n",
              "    </tr>\n",
              "  </thead>\n",
              "  <tbody>\n",
              "    <tr>\n",
              "      <th>32</th>\n",
              "      <td>2008-04-18</td>\n",
              "      <td>61</td>\n",
              "      <td>0</td>\n",
              "      <td>5.1</td>\n",
              "      <td>59</td>\n",
              "      <td>0</td>\n",
              "      <td>222</td>\n",
              "      <td>False</td>\n",
              "      <td>False</td>\n",
              "      <td>False</td>\n",
              "      <td>...</td>\n",
              "      <td>False</td>\n",
              "      <td>False</td>\n",
              "      <td>False</td>\n",
              "      <td>False</td>\n",
              "      <td>False</td>\n",
              "      <td>False</td>\n",
              "      <td>False</td>\n",
              "      <td>False</td>\n",
              "      <td>True</td>\n",
              "      <td>False</td>\n",
              "    </tr>\n",
              "    <tr>\n",
              "      <th>33</th>\n",
              "      <td>2008-04-18</td>\n",
              "      <td>61</td>\n",
              "      <td>1</td>\n",
              "      <td>5.2</td>\n",
              "      <td>59</td>\n",
              "      <td>1</td>\n",
              "      <td>222</td>\n",
              "      <td>False</td>\n",
              "      <td>False</td>\n",
              "      <td>False</td>\n",
              "      <td>...</td>\n",
              "      <td>False</td>\n",
              "      <td>False</td>\n",
              "      <td>False</td>\n",
              "      <td>False</td>\n",
              "      <td>False</td>\n",
              "      <td>False</td>\n",
              "      <td>False</td>\n",
              "      <td>False</td>\n",
              "      <td>True</td>\n",
              "      <td>False</td>\n",
              "    </tr>\n",
              "  </tbody>\n",
              "</table>\n",
              "<p>2 rows × 23 columns</p>\n",
              "</div>"
            ],
            "text/plain": [
              "         date  runs  wickets  overs  runs_last_5  wickets_last_5  total  \\\n",
              "32 2008-04-18    61        0    5.1           59               0    222   \n",
              "33 2008-04-18    61        1    5.2           59               1    222   \n",
              "\n",
              "    bat_team_Chennai Super Kings  bat_team_Delhi Daredevils  \\\n",
              "32                         False                      False   \n",
              "33                         False                      False   \n",
              "\n",
              "    bat_team_Kings XI Punjab  ...  bat_team_Royal Challengers Bangalore  \\\n",
              "32                     False  ...                                 False   \n",
              "33                     False  ...                                 False   \n",
              "\n",
              "    bat_team_Sunrisers Hyderabad  bowl_team_Chennai Super Kings  \\\n",
              "32                         False                          False   \n",
              "33                         False                          False   \n",
              "\n",
              "    bowl_team_Delhi Daredevils  bowl_team_Kings XI Punjab  \\\n",
              "32                       False                      False   \n",
              "33                       False                      False   \n",
              "\n",
              "    bowl_team_Kolkata Knight Riders  bowl_team_Mumbai Indians  \\\n",
              "32                            False                     False   \n",
              "33                            False                     False   \n",
              "\n",
              "    bowl_team_Rajasthan Royals  bowl_team_Royal Challengers Bangalore  \\\n",
              "32                       False                                   True   \n",
              "33                       False                                   True   \n",
              "\n",
              "    bowl_team_Sunrisers Hyderabad  \n",
              "32                          False  \n",
              "33                          False  \n",
              "\n",
              "[2 rows x 23 columns]"
            ]
          },
          "execution_count": 21,
          "metadata": {},
          "output_type": "execute_result"
        }
      ],
      "source": [
        "cat_df.head(2)"
      ]
    },
    {
      "cell_type": "code",
      "execution_count": 22,
      "id": "4cea6741",
      "metadata": {
        "colab": {
          "base_uri": "https://localhost:8080/"
        },
        "id": "4cea6741",
        "outputId": "e4800279-898e-4c34-95b9-7e31c3d2dfc4",
        "scrolled": true
      },
      "outputs": [
        {
          "data": {
            "text/plain": [
              "Index(['date', 'runs', 'wickets', 'overs', 'runs_last_5', 'wickets_last_5',\n",
              "       'total', 'bat_team_Chennai Super Kings', 'bat_team_Delhi Daredevils',\n",
              "       'bat_team_Kings XI Punjab', 'bat_team_Kolkata Knight Riders',\n",
              "       'bat_team_Mumbai Indians', 'bat_team_Rajasthan Royals',\n",
              "       'bat_team_Royal Challengers Bangalore', 'bat_team_Sunrisers Hyderabad',\n",
              "       'bowl_team_Chennai Super Kings', 'bowl_team_Delhi Daredevils',\n",
              "       'bowl_team_Kings XI Punjab', 'bowl_team_Kolkata Knight Riders',\n",
              "       'bowl_team_Mumbai Indians', 'bowl_team_Rajasthan Royals',\n",
              "       'bowl_team_Royal Challengers Bangalore',\n",
              "       'bowl_team_Sunrisers Hyderabad'],\n",
              "      dtype='object')"
            ]
          },
          "execution_count": 22,
          "metadata": {},
          "output_type": "execute_result"
        }
      ],
      "source": [
        "# getting cols\n",
        "cat_df.columns"
      ]
    },
    {
      "cell_type": "code",
      "execution_count": 23,
      "id": "102ca998",
      "metadata": {
        "id": "102ca998"
      },
      "outputs": [],
      "source": [
        "# rearranging cols\n",
        "cat_df = cat_df[['date','bat_team_Chennai Super Kings', 'bat_team_Delhi Daredevils',\n",
        "       'bat_team_Kings XI Punjab', 'bat_team_Kolkata Knight Riders',\n",
        "       'bat_team_Mumbai Indians', 'bat_team_Rajasthan Royals',\n",
        "       'bat_team_Royal Challengers Bangalore', 'bat_team_Sunrisers Hyderabad', 'bowl_team_Chennai Super Kings',\n",
        "       'bowl_team_Delhi Daredevils', 'bowl_team_Kings XI Punjab',\n",
        "       'bowl_team_Kolkata Knight Riders', 'bowl_team_Mumbai Indians',\n",
        "       'bowl_team_Rajasthan Royals', 'bowl_team_Royal Challengers Bangalore','bowl_team_Sunrisers Hyderabad', 'runs', 'wickets', 'overs', 'runs_last_5', 'wickets_last_5', 'total']]"
      ]
    },
    {
      "cell_type": "code",
      "execution_count": 24,
      "id": "4545e4c7",
      "metadata": {
        "id": "4545e4c7"
      },
      "outputs": [],
      "source": [
        "# split the data into train and test - based on date column\n",
        "X_train = cat_df.drop(labels = 'total', axis = 1)[cat_df['date'].dt.year <= 2016]\n",
        "X_test = cat_df.drop(labels = 'total', axis = 1) [cat_df['date'].dt.year >= 2017]"
      ]
    },
    {
      "cell_type": "code",
      "execution_count": 25,
      "id": "066c38b5",
      "metadata": {
        "id": "066c38b5"
      },
      "outputs": [],
      "source": [
        "# since only one column so cosidered as series\n",
        "y_train = cat_df[cat_df['date'].dt.year <= 2016]['total'].values\n",
        "y_test = cat_df[cat_df['date'].dt.year >= 2017]['total'].values"
      ]
    },
    {
      "cell_type": "code",
      "execution_count": 26,
      "id": "db7fe442",
      "metadata": {
        "colab": {
          "base_uri": "https://localhost:8080/"
        },
        "id": "db7fe442",
        "outputId": "f89758a4-82c2-472c-dbe8-8c42efa5ca65"
      },
      "outputs": [
        {
          "name": "stdout",
          "output_type": "stream",
          "text": [
            "(37330, 22) (37330,)\n",
            "(2778, 22) (2778,)\n"
          ]
        }
      ],
      "source": [
        "#checking shape\n",
        "print(X_train.shape , y_train.shape)\n",
        "print(X_test.shape , y_test.shape)"
      ]
    },
    {
      "cell_type": "code",
      "execution_count": 27,
      "id": "fa2969a7",
      "metadata": {
        "id": "fa2969a7"
      },
      "outputs": [],
      "source": [
        "# since the requirement of our date colum is over so we can drop it\n",
        "# dropping date column\n",
        "X_train.drop(labels = 'date', axis = True, inplace = True)\n",
        "X_test.drop(labels = 'date', axis = True, inplace = True)"
      ]
    },
    {
      "cell_type": "code",
      "execution_count": 28,
      "id": "c7b2bae2",
      "metadata": {
        "colab": {
          "base_uri": "https://localhost:8080/",
          "height": 329
        },
        "id": "c7b2bae2",
        "outputId": "cde56018-a4b0-424b-fbd5-f2a6bdc249c6"
      },
      "outputs": [
        {
          "data": {
            "text/plain": [
              "'X_train'"
            ]
          },
          "metadata": {},
          "output_type": "display_data"
        },
        {
          "data": {
            "text/html": [
              "<div>\n",
              "<style scoped>\n",
              "    .dataframe tbody tr th:only-of-type {\n",
              "        vertical-align: middle;\n",
              "    }\n",
              "\n",
              "    .dataframe tbody tr th {\n",
              "        vertical-align: top;\n",
              "    }\n",
              "\n",
              "    .dataframe thead th {\n",
              "        text-align: right;\n",
              "    }\n",
              "</style>\n",
              "<table border=\"1\" class=\"dataframe\">\n",
              "  <thead>\n",
              "    <tr style=\"text-align: right;\">\n",
              "      <th></th>\n",
              "      <th>bat_team_Chennai Super Kings</th>\n",
              "      <th>bat_team_Delhi Daredevils</th>\n",
              "      <th>bat_team_Kings XI Punjab</th>\n",
              "      <th>bat_team_Kolkata Knight Riders</th>\n",
              "      <th>bat_team_Mumbai Indians</th>\n",
              "      <th>bat_team_Rajasthan Royals</th>\n",
              "      <th>bat_team_Royal Challengers Bangalore</th>\n",
              "      <th>bat_team_Sunrisers Hyderabad</th>\n",
              "      <th>bowl_team_Chennai Super Kings</th>\n",
              "      <th>bowl_team_Delhi Daredevils</th>\n",
              "      <th>...</th>\n",
              "      <th>bowl_team_Kolkata Knight Riders</th>\n",
              "      <th>bowl_team_Mumbai Indians</th>\n",
              "      <th>bowl_team_Rajasthan Royals</th>\n",
              "      <th>bowl_team_Royal Challengers Bangalore</th>\n",
              "      <th>bowl_team_Sunrisers Hyderabad</th>\n",
              "      <th>runs</th>\n",
              "      <th>wickets</th>\n",
              "      <th>overs</th>\n",
              "      <th>runs_last_5</th>\n",
              "      <th>wickets_last_5</th>\n",
              "    </tr>\n",
              "  </thead>\n",
              "  <tbody>\n",
              "    <tr>\n",
              "      <th>32</th>\n",
              "      <td>False</td>\n",
              "      <td>False</td>\n",
              "      <td>False</td>\n",
              "      <td>True</td>\n",
              "      <td>False</td>\n",
              "      <td>False</td>\n",
              "      <td>False</td>\n",
              "      <td>False</td>\n",
              "      <td>False</td>\n",
              "      <td>False</td>\n",
              "      <td>...</td>\n",
              "      <td>False</td>\n",
              "      <td>False</td>\n",
              "      <td>False</td>\n",
              "      <td>True</td>\n",
              "      <td>False</td>\n",
              "      <td>61</td>\n",
              "      <td>0</td>\n",
              "      <td>5.1</td>\n",
              "      <td>59</td>\n",
              "      <td>0</td>\n",
              "    </tr>\n",
              "  </tbody>\n",
              "</table>\n",
              "<p>1 rows × 21 columns</p>\n",
              "</div>"
            ],
            "text/plain": [
              "    bat_team_Chennai Super Kings  bat_team_Delhi Daredevils  \\\n",
              "32                         False                      False   \n",
              "\n",
              "    bat_team_Kings XI Punjab  bat_team_Kolkata Knight Riders  \\\n",
              "32                     False                            True   \n",
              "\n",
              "    bat_team_Mumbai Indians  bat_team_Rajasthan Royals  \\\n",
              "32                    False                      False   \n",
              "\n",
              "    bat_team_Royal Challengers Bangalore  bat_team_Sunrisers Hyderabad  \\\n",
              "32                                 False                         False   \n",
              "\n",
              "    bowl_team_Chennai Super Kings  bowl_team_Delhi Daredevils  ...  \\\n",
              "32                          False                       False  ...   \n",
              "\n",
              "    bowl_team_Kolkata Knight Riders  bowl_team_Mumbai Indians  \\\n",
              "32                            False                     False   \n",
              "\n",
              "    bowl_team_Rajasthan Royals  bowl_team_Royal Challengers Bangalore  \\\n",
              "32                       False                                   True   \n",
              "\n",
              "    bowl_team_Sunrisers Hyderabad  runs  wickets  overs  runs_last_5  \\\n",
              "32                          False    61        0    5.1           59   \n",
              "\n",
              "    wickets_last_5  \n",
              "32               0  \n",
              "\n",
              "[1 rows x 21 columns]"
            ]
          },
          "metadata": {},
          "output_type": "display_data"
        },
        {
          "data": {
            "text/plain": [
              "'X_test'"
            ]
          },
          "metadata": {},
          "output_type": "display_data"
        },
        {
          "data": {
            "text/html": [
              "<div>\n",
              "<style scoped>\n",
              "    .dataframe tbody tr th:only-of-type {\n",
              "        vertical-align: middle;\n",
              "    }\n",
              "\n",
              "    .dataframe tbody tr th {\n",
              "        vertical-align: top;\n",
              "    }\n",
              "\n",
              "    .dataframe thead th {\n",
              "        text-align: right;\n",
              "    }\n",
              "</style>\n",
              "<table border=\"1\" class=\"dataframe\">\n",
              "  <thead>\n",
              "    <tr style=\"text-align: right;\">\n",
              "      <th></th>\n",
              "      <th>bat_team_Chennai Super Kings</th>\n",
              "      <th>bat_team_Delhi Daredevils</th>\n",
              "      <th>bat_team_Kings XI Punjab</th>\n",
              "      <th>bat_team_Kolkata Knight Riders</th>\n",
              "      <th>bat_team_Mumbai Indians</th>\n",
              "      <th>bat_team_Rajasthan Royals</th>\n",
              "      <th>bat_team_Royal Challengers Bangalore</th>\n",
              "      <th>bat_team_Sunrisers Hyderabad</th>\n",
              "      <th>bowl_team_Chennai Super Kings</th>\n",
              "      <th>bowl_team_Delhi Daredevils</th>\n",
              "      <th>...</th>\n",
              "      <th>bowl_team_Kolkata Knight Riders</th>\n",
              "      <th>bowl_team_Mumbai Indians</th>\n",
              "      <th>bowl_team_Rajasthan Royals</th>\n",
              "      <th>bowl_team_Royal Challengers Bangalore</th>\n",
              "      <th>bowl_team_Sunrisers Hyderabad</th>\n",
              "      <th>runs</th>\n",
              "      <th>wickets</th>\n",
              "      <th>overs</th>\n",
              "      <th>runs_last_5</th>\n",
              "      <th>wickets_last_5</th>\n",
              "    </tr>\n",
              "  </thead>\n",
              "  <tbody>\n",
              "    <tr>\n",
              "      <th>68894</th>\n",
              "      <td>False</td>\n",
              "      <td>False</td>\n",
              "      <td>False</td>\n",
              "      <td>False</td>\n",
              "      <td>False</td>\n",
              "      <td>False</td>\n",
              "      <td>False</td>\n",
              "      <td>True</td>\n",
              "      <td>False</td>\n",
              "      <td>False</td>\n",
              "      <td>...</td>\n",
              "      <td>False</td>\n",
              "      <td>False</td>\n",
              "      <td>False</td>\n",
              "      <td>True</td>\n",
              "      <td>False</td>\n",
              "      <td>46</td>\n",
              "      <td>1</td>\n",
              "      <td>5.1</td>\n",
              "      <td>42</td>\n",
              "      <td>1</td>\n",
              "    </tr>\n",
              "  </tbody>\n",
              "</table>\n",
              "<p>1 rows × 21 columns</p>\n",
              "</div>"
            ],
            "text/plain": [
              "       bat_team_Chennai Super Kings  bat_team_Delhi Daredevils  \\\n",
              "68894                         False                      False   \n",
              "\n",
              "       bat_team_Kings XI Punjab  bat_team_Kolkata Knight Riders  \\\n",
              "68894                     False                           False   \n",
              "\n",
              "       bat_team_Mumbai Indians  bat_team_Rajasthan Royals  \\\n",
              "68894                    False                      False   \n",
              "\n",
              "       bat_team_Royal Challengers Bangalore  bat_team_Sunrisers Hyderabad  \\\n",
              "68894                                 False                          True   \n",
              "\n",
              "       bowl_team_Chennai Super Kings  bowl_team_Delhi Daredevils  ...  \\\n",
              "68894                          False                       False  ...   \n",
              "\n",
              "       bowl_team_Kolkata Knight Riders  bowl_team_Mumbai Indians  \\\n",
              "68894                            False                     False   \n",
              "\n",
              "       bowl_team_Rajasthan Royals  bowl_team_Royal Challengers Bangalore  \\\n",
              "68894                       False                                   True   \n",
              "\n",
              "       bowl_team_Sunrisers Hyderabad  runs  wickets  overs  runs_last_5  \\\n",
              "68894                          False    46        1    5.1           42   \n",
              "\n",
              "       wickets_last_5  \n",
              "68894               1  \n",
              "\n",
              "[1 rows x 21 columns]"
            ]
          },
          "metadata": {},
          "output_type": "display_data"
        }
      ],
      "source": [
        "# use display to cross check in single line\n",
        "display(\"X_train\", X_train.head(1))\n",
        "display(\"X_test\", X_test.head(1))\n"
      ]
    },
    {
      "cell_type": "markdown",
      "id": "20431fe5",
      "metadata": {
        "id": "20431fe5"
      },
      "source": [
        "# Model Building\n",
        "- Building model\n",
        "- Saving Model Using Pickle"
      ]
    },
    {
      "cell_type": "markdown",
      "id": "31f090ab",
      "metadata": {
        "id": "31f090ab"
      },
      "source": [
        "## Linear Regression Model"
      ]
    },
    {
      "cell_type": "code",
      "execution_count": 29,
      "id": "36b09982",
      "metadata": {
        "colab": {
          "base_uri": "https://localhost:8080/",
          "height": 74
        },
        "id": "36b09982",
        "outputId": "c12657fe-051b-42a1-f7cd-6d7587b7982a"
      },
      "outputs": [
        {
          "data": {
            "text/html": [
              "<style>#sk-container-id-1 {color: black;}#sk-container-id-1 pre{padding: 0;}#sk-container-id-1 div.sk-toggleable {background-color: white;}#sk-container-id-1 label.sk-toggleable__label {cursor: pointer;display: block;width: 100%;margin-bottom: 0;padding: 0.3em;box-sizing: border-box;text-align: center;}#sk-container-id-1 label.sk-toggleable__label-arrow:before {content: \"▸\";float: left;margin-right: 0.25em;color: #696969;}#sk-container-id-1 label.sk-toggleable__label-arrow:hover:before {color: black;}#sk-container-id-1 div.sk-estimator:hover label.sk-toggleable__label-arrow:before {color: black;}#sk-container-id-1 div.sk-toggleable__content {max-height: 0;max-width: 0;overflow: hidden;text-align: left;background-color: #f0f8ff;}#sk-container-id-1 div.sk-toggleable__content pre {margin: 0.2em;color: black;border-radius: 0.25em;background-color: #f0f8ff;}#sk-container-id-1 input.sk-toggleable__control:checked~div.sk-toggleable__content {max-height: 200px;max-width: 100%;overflow: auto;}#sk-container-id-1 input.sk-toggleable__control:checked~label.sk-toggleable__label-arrow:before {content: \"▾\";}#sk-container-id-1 div.sk-estimator input.sk-toggleable__control:checked~label.sk-toggleable__label {background-color: #d4ebff;}#sk-container-id-1 div.sk-label input.sk-toggleable__control:checked~label.sk-toggleable__label {background-color: #d4ebff;}#sk-container-id-1 input.sk-hidden--visually {border: 0;clip: rect(1px 1px 1px 1px);clip: rect(1px, 1px, 1px, 1px);height: 1px;margin: -1px;overflow: hidden;padding: 0;position: absolute;width: 1px;}#sk-container-id-1 div.sk-estimator {font-family: monospace;background-color: #f0f8ff;border: 1px dotted black;border-radius: 0.25em;box-sizing: border-box;margin-bottom: 0.5em;}#sk-container-id-1 div.sk-estimator:hover {background-color: #d4ebff;}#sk-container-id-1 div.sk-parallel-item::after {content: \"\";width: 100%;border-bottom: 1px solid gray;flex-grow: 1;}#sk-container-id-1 div.sk-label:hover label.sk-toggleable__label {background-color: #d4ebff;}#sk-container-id-1 div.sk-serial::before {content: \"\";position: absolute;border-left: 1px solid gray;box-sizing: border-box;top: 0;bottom: 0;left: 50%;z-index: 0;}#sk-container-id-1 div.sk-serial {display: flex;flex-direction: column;align-items: center;background-color: white;padding-right: 0.2em;padding-left: 0.2em;position: relative;}#sk-container-id-1 div.sk-item {position: relative;z-index: 1;}#sk-container-id-1 div.sk-parallel {display: flex;align-items: stretch;justify-content: center;background-color: white;position: relative;}#sk-container-id-1 div.sk-item::before, #sk-container-id-1 div.sk-parallel-item::before {content: \"\";position: absolute;border-left: 1px solid gray;box-sizing: border-box;top: 0;bottom: 0;left: 50%;z-index: -1;}#sk-container-id-1 div.sk-parallel-item {display: flex;flex-direction: column;z-index: 1;position: relative;background-color: white;}#sk-container-id-1 div.sk-parallel-item:first-child::after {align-self: flex-end;width: 50%;}#sk-container-id-1 div.sk-parallel-item:last-child::after {align-self: flex-start;width: 50%;}#sk-container-id-1 div.sk-parallel-item:only-child::after {width: 0;}#sk-container-id-1 div.sk-dashed-wrapped {border: 1px dashed gray;margin: 0 0.4em 0.5em 0.4em;box-sizing: border-box;padding-bottom: 0.4em;background-color: white;}#sk-container-id-1 div.sk-label label {font-family: monospace;font-weight: bold;display: inline-block;line-height: 1.2em;}#sk-container-id-1 div.sk-label-container {text-align: center;}#sk-container-id-1 div.sk-container {/* jupyter's `normalize.less` sets `[hidden] { display: none; }` but bootstrap.min.css set `[hidden] { display: none !important; }` so we also need the `!important` here to be able to override the default hidden behavior on the sphinx rendered scikit-learn.org. See: https://github.com/scikit-learn/scikit-learn/issues/21755 */display: inline-block !important;position: relative;}#sk-container-id-1 div.sk-text-repr-fallback {display: none;}</style><div id=\"sk-container-id-1\" class=\"sk-top-container\"><div class=\"sk-text-repr-fallback\"><pre>LinearRegression()</pre><b>In a Jupyter environment, please rerun this cell to show the HTML representation or trust the notebook. <br />On GitHub, the HTML representation is unable to render, please try loading this page with nbviewer.org.</b></div><div class=\"sk-container\" hidden><div class=\"sk-item\"><div class=\"sk-estimator sk-toggleable\"><input class=\"sk-toggleable__control sk-hidden--visually\" id=\"sk-estimator-id-1\" type=\"checkbox\" checked><label for=\"sk-estimator-id-1\" class=\"sk-toggleable__label sk-toggleable__label-arrow\">LinearRegression</label><div class=\"sk-toggleable__content\"><pre>LinearRegression()</pre></div></div></div></div></div>"
            ],
            "text/plain": [
              "LinearRegression()"
            ]
          },
          "execution_count": 29,
          "metadata": {},
          "output_type": "execute_result"
        }
      ],
      "source": [
        "# intial buid\n",
        "# import module\n",
        "from sklearn.linear_model import LinearRegression\n",
        "reg = LinearRegression()\n",
        "\n",
        "# trainong model\n",
        "reg.fit(X_train , y_train)"
      ]
    },
    {
      "cell_type": "markdown",
      "id": "0b03358f",
      "metadata": {
        "id": "0b03358f"
      },
      "source": [
        "# Predictions\n",
        "Evaluating Our Model"
      ]
    },
    {
      "cell_type": "code",
      "execution_count": 30,
      "id": "c82d140b",
      "metadata": {
        "id": "c82d140b"
      },
      "outputs": [],
      "source": [
        "# getting predictions\n",
        "prediction = reg.predict(X_test)"
      ]
    },
    {
      "cell_type": "code",
      "execution_count": 31,
      "id": "546de77d",
      "metadata": {
        "colab": {
          "base_uri": "https://localhost:8080/",
          "height": 523
        },
        "id": "546de77d",
        "outputId": "510ebcdd-d017-447f-ae86-a483b3569eaf"
      },
      "outputs": [
        {
          "data": {
            "text/plain": [
              "<seaborn.axisgrid.FacetGrid at 0x1fdd2c99590>"
            ]
          },
          "execution_count": 31,
          "metadata": {},
          "output_type": "execute_result"
        },
        {
          "data": {
            "image/png": "[encoded data removed]",
            "text/plain": [
              "<Figure size 500x500 with 1 Axes>"
            ]
          },
          "metadata": {},
          "output_type": "display_data"
        }
      ],
      "source": [
        "# plottoing our fit\n",
        "import seaborn as sns\n",
        "sns.displot(y_test-prediction)"
      ]
    },
    {
      "cell_type": "code",
      "execution_count": 32,
      "id": "a7babc20",
      "metadata": {
        "colab": {
          "base_uri": "https://localhost:8080/"
        },
        "id": "a7babc20",
        "outputId": "b14e499d-a77c-4e6c-f3c0-0550af6bf0ff"
      },
      "outputs": [
        {
          "name": "stdout",
          "output_type": "stream",
          "text": [
            "MAE:  12.121567266806155\n",
            "MSE:  251.32041402868094\n",
            "RMSE:  15.853088469717216\n"
          ]
        }
      ],
      "source": [
        "# checking for scores\n",
        "from sklearn import metrics\n",
        "import numpy as np # dependency\n",
        "\n",
        "# Mean Absolute Error\n",
        "print('MAE: ', metrics.mean_absolute_error(y_test , prediction))\n",
        "\n",
        "# Mean Squared Error\n",
        "print('MSE: ', metrics.mean_squared_error(y_test, prediction))\n",
        "\n",
        "# Root Mean Squared Error\n",
        "print('RMSE: ', np.sqrt(metrics.mean_squared_error(y_test, prediction)))"
      ]
    },
    {
      "cell_type": "code",
      "execution_count": 33,
      "id": "6ac96a3d",
      "metadata": {
        "id": "6ac96a3d"
      },
      "outputs": [],
      "source": [
        "# creating our model pickel file - saving model\n",
        "file_name = 'ipl_score_predict_model.pkl'\n",
        "pickle.dump(reg , open(file_name,'wb'))"
      ]
    },
    {
      "cell_type": "markdown",
      "id": "6ffc4909",
      "metadata": {
        "id": "6ffc4909"
      },
      "source": []
    },
    {
      "cell_type": "code",
      "execution_count": 34,
      "id": "gItgsxZG58dJ",
      "metadata": {
        "colab": {
          "base_uri": "https://localhost:8080/"
        },
        "id": "gItgsxZG58dJ",
        "outputId": "0a71e3e1-1a0b-4075-ef00-95bf9774c124"
      },
      "outputs": [
        {
          "name": "stdout",
          "output_type": "stream",
          "text": [
            "[185.40209961]\n",
            "rounded score is:  [185.]\n"
          ]
        }
      ],
      "source": [
        "import pandas as pd\n",
        "import numpy as np\n",
        "from datetime import datetime\n",
        "\n",
        "# Example input values\n",
        "user_input = {\n",
        "    'bat_team': 'Rajasthan Royals',\n",
        "    'bowl_team': 'Mumbai Indians',\n",
        "    'overs': 11,\n",
        "    'runs': 108,\n",
        "    'wickets':2 ,\n",
        "    'runs_last_5':60,\n",
        "    'wickets_last_5': 0\n",
        "}\n",
        "# Create a DataFrame with the user input\n",
        "user_df = pd.DataFrame([user_input])\n",
        "# Handle Categorical Variables\n",
        "# Ensure that the categorical encoding matches the training data\n",
        "user_df_encoded = pd.get_dummies(data=user_df, columns=['bat_team', 'bowl_team'])\n",
        "user_df_encoded = user_df_encoded.reindex(columns=X_train.columns, fill_value=0)\n",
        "# Make Predictions\n",
        "predictions = reg.predict(user_df_encoded)\n",
        "# Display the predictions\n",
        "print(predictions)\n",
        "# Make Predictions and round off to the nearest integer\n",
        "rounded_predictions = np.round(reg.predict(user_df_encoded))\n",
        "# Display the rounded predictions\n",
        "print(\"rounded score is: \", rounded_predictions)"
      ]
    },
    {
      "cell_type": "code",
      "execution_count": 35,
      "id": "3cz1XZcf846N",
      "metadata": {
        "colab": {
          "base_uri": "https://localhost:8080/"
        },
        "id": "3cz1XZcf846N",
        "outputId": "a9ed3230-6e56-4f02-9722-3337670e2cd2"
      },
      "outputs": [
        {
          "name": "stdout",
          "output_type": "stream",
          "text": [
            "Mean Absolute Error: 12.121567266806155\n",
            "Mean Squared Error: 251.32041402868094\n",
            "Root Mean Squared Error: 15.853088469717216\n",
            "R-squared: 0.7519549382721505\n"
          ]
        }
      ],
      "source": [
        "from sklearn.metrics import mean_absolute_error, mean_squared_error, r2_score\n",
        "\n",
        "# Calculate metrics\n",
        "mae = mean_absolute_error(y_test, prediction)\n",
        "mse = mean_squared_error(y_test, prediction)\n",
        "rmse = mean_squared_error(y_test, prediction, squared=False)\n",
        "r2 = r2_score(y_test, prediction)\n",
        "\n",
        "# Display the metrics\n",
        "print(f'Mean Absolute Error: {mae}')\n",
        "print(f'Mean Squared Error: {mse}')\n",
        "print(f'Root Mean Squared Error: {rmse}')\n",
        "print(f'R-squared: {r2}')\n"
      ]
    },
    {
      "cell_type": "code",
      "execution_count": 36,
      "id": "nEFN43lB9QNs",
      "metadata": {
        "colab": {
          "base_uri": "https://localhost:8080/",
          "height": 564
        },
        "id": "nEFN43lB9QNs",
        "outputId": "36fee7f4-d6a6-4783-abe2-31d46c9bcf7e"
      },
      "outputs": [
        {
          "data": {
            "image/png": "[encoded data removed]",
            "text/plain": [
              "<Figure size 1000x600 with 1 Axes>"
            ]
          },
          "metadata": {},
          "output_type": "display_data"
        }
      ],
      "source": [
        "import matplotlib.pyplot as plt\n",
        "import seaborn as sns\n",
        "\n",
        "# Scatter plot of actual vs. predicted values\n",
        "plt.figure(figsize=(10, 6))\n",
        "sns.scatterplot(x=y_test, y=prediction)\n",
        "plt.title('Actual vs. Predicted Values')\n",
        "plt.xlabel('Actual Values')\n",
        "plt.ylabel('Predicted Values')\n",
        "plt.show()\n"
      ]
    },
    {
      "cell_type": "code",
      "execution_count": 37,
      "id": "F_cR5qzl9YKn",
      "metadata": {
        "colab": {
          "base_uri": "https://localhost:8080/",
          "height": 564
        },
        "id": "F_cR5qzl9YKn",
        "outputId": "18b889f2-980c-4f2b-c989-2a3e8d8a6a3c"
      },
      "outputs": [
        {
          "data": {
            "image/png": "[encoded data removed]",
            "text/plain": [
              "<Figure size 1200x600 with 1 Axes>"
            ]
          },
          "metadata": {},
          "output_type": "display_data"
        }
      ],
      "source": [
        "# Line plot of predicted vs. actual values\n",
        "plt.figure(figsize=(12, 6))\n",
        "plt.plot(y_test, label='Actual Values', marker='o')\n",
        "plt.plot(prediction, label='Predicted Values', marker='o')\n",
        "plt.title('Predicted vs. Actual Line Plot')\n",
        "plt.xlabel('Observations')\n",
        "plt.ylabel('Total Score')\n",
        "plt.legend()\n",
        "plt.show()\n"
      ]
    },
    {
      "cell_type": "code",
      "execution_count": 38,
      "id": "V09bqR749aH8",
      "metadata": {
        "colab": {
          "base_uri": "https://localhost:8080/",
          "height": 500
        },
        "id": "V09bqR749aH8",
        "outputId": "d33595db-31be-4c81-cd7d-b1f03d280a21"
      },
      "outputs": [
        {
          "data": {
            "image/png": "[encoded data removed]",
            "text/plain": [
              "<Figure size 1200x600 with 1 Axes>"
            ]
          },
          "metadata": {},
          "output_type": "display_data"
        }
      ],
      "source": [
        "# Feature importance plot (if applicable)\n",
        "if hasattr(reg, 'coef_'):\n",
        "    feature_importance = reg.coef_\n",
        "    feature_names = X_train.columns\n",
        "\n",
        "    plt.figure(figsize=(12, 6))\n",
        "    sns.barplot(x=feature_importance, y=feature_names)\n",
        "    plt.title('Feature Importance')\n",
        "    plt.xlabel('Coefficient Magnitude')\n",
        "    plt.ylabel('Features')\n",
        "    plt.show()\n"
      ]
    },
    {
      "cell_type": "code",
      "execution_count": 39,
      "id": "b1FMjBL4HRFm",
      "metadata": {
        "colab": {
          "base_uri": "https://localhost:8080/",
          "height": 564
        },
        "id": "b1FMjBL4HRFm",
        "outputId": "309f7b98-579a-4724-f0d6-4491d7c7a672"
      },
      "outputs": [
        {
          "data": {
            "image/png": "[encoded data removed]",
            "text/plain": [
              "<Figure size 1000x600 with 1 Axes>"
            ]
          },
          "metadata": {},
          "output_type": "display_data"
        }
      ],
      "source": [
        "import matplotlib.pyplot as plt\n",
        "import seaborn as sns\n",
        "from sklearn.metrics import mean_absolute_error, mean_squared_error, r2_score\n",
        "\n",
        "# Calculate metrics\n",
        "mae = mean_absolute_error(y_test, prediction)\n",
        "mse = mean_squared_error(y_test, prediction)\n",
        "rmse = mean_squared_error(y_test, prediction, squared=False)\n",
        "r2 = r2_score(y_test, prediction)\n",
        "\n",
        "# Create a DataFrame for better visualization\n",
        "metrics_df = pd.DataFrame({\n",
        "    'Metric': ['MAE', 'MSE', 'RMSE', 'R-squared'],\n",
        "    'Value': [mae, mse, rmse, r2]\n",
        "})\n",
        "\n",
        "# Bar plot for performance metrics\n",
        "plt.figure(figsize=(10, 6))\n",
        "sns.barplot(x='Metric', y='Value', data=metrics_df)\n",
        "plt.title('Performance Metrics')\n",
        "plt.ylabel('Metric Value')\n",
        "plt.show()\n"
      ]
    }
  ],
  "metadata": {
    "colab": {
      "provenance": []
    },
    "kernelspec": {
      "display_name": "Python 3",
      "language": "python",
      "name": "python3"
    },
    "language_info": {
      "codemirror_mode": {
        "name": "ipython",
        "version": 3
      },
      "file_extension": ".py",
      "mimetype": "text/x-python",
      "name": "python",
      "nbconvert_exporter": "python",
      "pygments_lexer": "ipython3",
      "version": "3.11.4"
    }
  },
  "nbformat": 4,
  "nbformat_minor": 5
}
